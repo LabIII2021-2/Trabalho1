{
 "cells": [
  {
   "cell_type": "code",
   "execution_count": 1,
   "metadata": {},
   "outputs": [],
   "source": [
    "import numpy as np\n",
    "from scipy import signal, misc, fftpack\n",
    "import control as ct\n",
    "import matplotlib.pyplot as plt"
   ]
  },
  {
   "cell_type": "markdown",
   "metadata": {},
   "source": [
    "## Gerando um seno e aplicando um filtro IIR nele"
   ]
  },
  {
   "cell_type": "code",
   "execution_count": 45,
   "metadata": {},
   "outputs": [
    {
     "name": "stdout",
     "output_type": "stream",
     "text": [
      "[ 0.0561829  -0.0716273  -0.00448216  0.051714    0.01757277 -0.00808967\n",
      " -0.04423116 -0.05247934  0.10111145 -0.00442836 -0.05352183  0.06683666\n",
      "  0.02961109 -0.04739342 -0.06694364  0.03375312]\n",
      "[0.0561829  0.0044275  0.0568934  0.00168099 0.08803376 0.07285478\n",
      " 0.09862759 0.012838   0.06773795 0.00424897 0.07048783 0.05531752\n",
      " 0.12893456 0.12859093 0.09785944 0.07494759]\n"
     ]
    }
   ],
   "source": [
    "sin_array = np.zeros(12)\n",
    "for x in range(12):\n",
    "    sin_array[x] = np.sin(np.pi * x / 6)\n",
    "#print(sin_array)\n",
    "\n",
    "def float_to_q15(y):\n",
    "    y_clamped = np.clip(y, -1.0, float.fromhex(\"0x0.fffe\"))\n",
    "    y_fixed = np.multiply(y_clamped, 32768).astype(np.int16)\n",
    "    return y_fixed\n",
    "\n",
    "def array_to_cdata(y):\n",
    "    out_string = \"{\\n\"\n",
    "    for i in y:\n",
    "        out_string += str(i)+\",\\n\"\n",
    "    out_string = out_string[:-2]\n",
    "    out_string += \"\\n}\\n\"\n",
    "    return out_string\n",
    "\n",
    "#print(float_to_q15(sin_array))\n",
    "\n",
    "#x = sin_array\n",
    "x = [0.0561829, -0.0335999, 0.0133362, -0.00177002, 0.0488586, 0.0327148, -0.00546265, -0.0601501, 0.0401306, -0.00692749, 0.0144043, 0.036438, 0.0526733, 0.0297241, -0.0404358, -0.0117798]\n",
    "\n",
    "#sos = [1, 2, 1, 1, 0.75, 0.125]\n",
    "#sos = [[1, -0.176575, -0.588196, 1, 0.500275, 0.472351]]\n",
    "\n",
    "sos = [1.0000, 1.6854, 1.0000, 1.0000, -1.7197, 0.8565]\n",
    "#1.0000 -1.9999 1.0000 1.0000 -1.8899 0.9250\n",
    "\n",
    "# a0, a1, a2 b0, b1, b2\n",
    "\n",
    "\n",
    "y = signal.sosfilt(sos, x)\n",
    "\n",
    "print(y)\n"
   ]
  },
  {
   "cell_type": "markdown",
   "metadata": {},
   "source": [
    "## Teste IIRCAS51"
   ]
  },
  {
   "cell_type": "code",
   "execution_count": 48,
   "metadata": {},
   "outputs": [
    {
     "name": "stdout",
     "output_type": "stream",
     "text": [
      "[ 0.0052633   0.0052736  -0.01318322  0.01756529 -0.00110017  0.00434893\n",
      "  0.00373976 -0.00532509  0.00245172  0.01124411 -0.01848985  0.01332384\n",
      "  0.01580089 -0.00233718  0.00148769 -0.00014118]\n"
     ]
    }
   ],
   "source": [
    "x = [0.0561829, -0.0335999, 0.0133362, -0.00177002, 0.0488586, 0.0327148, -0.00546265, -0.0601501, 0.0401306, -0.00692749, 0.0144043, 0.036438, 0.0526733, 0.0297241, -0.0404358, -0.0117798]\n",
    "\n",
    "sos = [[-0.530548, 0.375793, -0.43335, 1, 0.522552, -0.107697 ], \n",
    "       [-0.176575, -0.588196, -0.356689, 1, 0.500275, 0.472351]]\n",
    "#a0, a1, a2, b0, b1, b2\n",
    "\n",
    "y = signal.sosfilt(sos, x)\n",
    "\n",
    "print(y)\n",
    "\n",
    "'''[0]\tshort\t0.00527954 (Q-Value(15))\t0x0003FE@DATA\t\n",
    "[1]\tshort\t0.00527954 (Q-Value(15))\t0x0003FF@DATA\t\n",
    "[2]\tshort\t-0.0131836 (Q-Value(15))\t0x000400@DATA\t\n",
    "[3]\tshort\t0.0175781 (Q-Value(15))\t0x000401@DATA\t\n",
    "[4]\tshort\t-0.00109863 (Q-Value(15))\t0x000402@DATA\t\n",
    "[5]\tshort\t0.00436401 (Q-Value(15))\t0x000403@DATA\t\n",
    "[6]\tshort\t0.00375366 (Q-Value(15))\t0x000404@DATA\t\n",
    "[7]\tshort\t-0.00534058 (Q-Value(15))\t0x000405@DATA\t\n",
    "[8]\tshort\t0.00247192 (Q-Value(15))\t0x000406@DATA\t\n",
    "[9]\tshort\t0.011261 (Q-Value(15))\t0x000407@DATA\t\n",
    "[10]\tshort\t-0.0184937 (Q-Value(15))\t0x000408@DATA\t\n",
    "[11]\tshort\t0.0133362 (Q-Value(15))\t0x000409@DATA\t\n",
    "[12]\tshort\t0.0158081 (Q-Value(15))\t0x00040A@DATA\t\n",
    "[13]\tshort\t-0.00231934 (Q-Value(15))\t0x00040B@DATA\t\n",
    "[14]\tshort\t0.00149536 (Q-Value(15))\t0x00040C@DATA\t\n",
    "[15]\tshort\t-0.00012207 (Q-Value(15))\t0x00040D@DATA\t'''\n"
   ]
  },
  {
   "cell_type": "markdown",
   "metadata": {},
   "source": [
    "## Teste IIRCAS5"
   ]
  },
  {
   "cell_type": "code",
   "execution_count": 49,
   "metadata": {},
   "outputs": [
    {
     "name": "stdout",
     "output_type": "stream",
     "text": [
      "[ 0.0052633   0.0052736  -0.01318322  0.01756529 -0.00110017  0.00434893\n",
      "  0.00373976 -0.00532509  0.00245172  0.01124411 -0.01848985  0.01332384\n",
      "  0.01580089 -0.00233718  0.00148769 -0.00014118]\n"
     ]
    }
   ],
   "source": [
    "x = [0.0561829, -0.0335999, 0.0133362, -0.00177002, 0.0488586, 0.0327148, -0.00546265, -0.0601501, 0.0401306, -0.00692749, 0.0144043, 0.036438, 0.0526733, 0.0297241, -0.0404358, -0.0117798]\n",
    "\n",
    "sos = [[-0.530548, 0.375793, -0.43335, 1, 0.522552, -0.107697 ], \n",
    "       [-0.176575, -0.588196, -0.356689, 1, 0.500275, 0.472351]]\n",
    "#a0, a1, a2, b0, b1, b2\n",
    "\n",
    "y = signal.sosfilt(sos, x)\n",
    "\n",
    "print(y)\n",
    "\n",
    "'''[0]\tshort\t0.00527954 (Q-Value(15))\t0x00041E@DATA\t\n",
    "[1]\tshort\t0.00527954 (Q-Value(15))\t0x00041F@DATA\t\n",
    "[2]\tshort\t-0.0131836 (Q-Value(15))\t0x000420@DATA\t\n",
    "[3]\tshort\t0.0175781 (Q-Value(15))\t0x000421@DATA\t\n",
    "[4]\tshort\t-0.00109863 (Q-Value(15))\t0x000422@DATA\t\n",
    "[5]\tshort\t0.00436401 (Q-Value(15))\t0x000423@DATA\t\n",
    "[6]\tshort\t0.00372314 (Q-Value(15))\t0x000424@DATA\t\n",
    "[7]\tshort\t-0.00531006 (Q-Value(15))\t0x000425@DATA\t\n",
    "[8]\tshort\t0.00247192 (Q-Value(15))\t0x000426@DATA\t\n",
    "[9]\tshort\t0.0112305 (Q-Value(15))\t0x000427@DATA\t\n",
    "[10]\tshort\t-0.0184937 (Q-Value(15))\t0x000428@DATA\t\n",
    "[11]\tshort\t0.0133362 (Q-Value(15))\t0x000429@DATA\t\n",
    "[12]\tshort\t0.0158081 (Q-Value(15))\t0x00042A@DATA\t\n",
    "[13]\tshort\t-0.00231934 (Q-Value(15))\t0x00042B@DATA\t\n",
    "[14]\tshort\t0.00149536 (Q-Value(15))\t0x00042C@DATA\t\n",
    "[15]\tshort\t-0.00012207 (Q-Value(15))\t0x00042D@DATA\t\n",
    "'''"
   ]
  },
  {
   "cell_type": "code",
   "execution_count": null,
   "metadata": {},
   "outputs": [],
   "source": []
  }
 ],
 "metadata": {
  "kernelspec": {
   "display_name": "Python 3",
   "language": "python",
   "name": "python3"
  },
  "language_info": {
   "codemirror_mode": {
    "name": "ipython",
    "version": 3
   },
   "file_extension": ".py",
   "mimetype": "text/x-python",
   "name": "python",
   "nbconvert_exporter": "python",
   "pygments_lexer": "ipython3",
   "version": "3.8.3"
  }
 },
 "nbformat": 4,
 "nbformat_minor": 4
}
