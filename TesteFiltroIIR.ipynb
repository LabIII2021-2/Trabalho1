{
 "cells": [
  {
   "cell_type": "code",
   "execution_count": 2,
   "metadata": {},
   "outputs": [],
   "source": [
    "import numpy as np\n",
    "from scipy import signal, misc, fftpack\n",
    "import control as ct\n",
    "import matplotlib.pyplot as plt"
   ]
  },
  {
   "cell_type": "markdown",
   "metadata": {},
   "source": [
    "## Gerando um seno e aplicando um filtro IIR nele"
   ]
  },
  {
   "cell_type": "code",
   "execution_count": 12,
   "metadata": {},
   "outputs": [
    {
     "name": "stdout",
     "output_type": "stream",
     "text": [
      "[ 0.00000000e+00  5.00000000e-01  8.66025404e-01  1.00000000e+00\n",
      "  8.66025404e-01  5.00000000e-01  1.22464680e-16 -5.00000000e-01\n",
      " -8.66025404e-01 -1.00000000e+00 -8.66025404e-01 -5.00000000e-01]\n",
      "[0.0561829  0.0044275  0.0568934  0.00168099 0.08803376 0.07285478\n",
      " 0.09862759 0.012838   0.06773795 0.00424897 0.07048783 0.05531752\n",
      " 0.12893456 0.12859093 0.09785944 0.07494759]\n"
     ]
    }
   ],
   "source": [
    "sin_array = np.zeros(12)\n",
    "for x in range(12):\n",
    "    sin_array[x] = np.sin(np.pi * x / 6)\n",
    "print(sin_array)\n",
    "\n",
    "def float_to_q15(y):\n",
    "    y_clamped = np.clip(y, -1.0, float.fromhex(\"0x0.fffe\"))\n",
    "    y_fixed = np.multiply(y_clamped, 32768).astype(np.int16)\n",
    "    return y_fixed\n",
    "\n",
    "def array_to_cdata(y):\n",
    "    out_string = \"{\\n\"\n",
    "    for i in y:\n",
    "        out_string += str(i)+\",\\n\"\n",
    "    out_string = out_string[:-2]\n",
    "    out_string += \"\\n}\\n\"\n",
    "    return out_string\n",
    "\n",
    "#print(float_to_q15(sin_array))\n",
    "\n",
    "x = [0.0561829, -0.0335999, 0.0133362, -0.00177002, 0.0488586, 0.0327148, -0.00546265, -0.0601501, 0.0401306, -0.00692749, 0.0144043, 0.036438, 0.0526733, 0.0297241, -0.0404358, -0.0117798]\n",
    "#y = signal.sosfilt([1, 2, 1, 1, 0.75, 0.125], sin_array)\n",
    "#1 0.375 0.5 0.0675\n",
    "y = signal.sosfilt([1, 0.500275, 0.472351, 1, -0.176575, -0.588196], x)\n",
    "\n",
    "print(y)"
   ]
  },
  {
   "cell_type": "code",
   "execution_count": null,
   "metadata": {},
   "outputs": [],
   "source": []
  }
 ],
 "metadata": {
  "kernelspec": {
   "display_name": "Python 3",
   "language": "python",
   "name": "python3"
  },
  "language_info": {
   "codemirror_mode": {
    "name": "ipython",
    "version": 3
   },
   "file_extension": ".py",
   "mimetype": "text/x-python",
   "name": "python",
   "nbconvert_exporter": "python",
   "pygments_lexer": "ipython3",
   "version": "3.8.3"
  }
 },
 "nbformat": 4,
 "nbformat_minor": 4
}
